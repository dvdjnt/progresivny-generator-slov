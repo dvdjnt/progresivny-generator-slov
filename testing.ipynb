{
 "cells": [
  {
   "cell_type": "code",
   "execution_count": 3,
   "metadata": {},
   "outputs": [],
   "source": [
    "%load_ext autoreload\n",
    "%autoreload 2"
   ]
  },
  {
   "cell_type": "code",
   "execution_count": 2,
   "metadata": {},
   "outputs": [],
   "source": [
    "from PridavneMeno import PridavneMeno\n",
    "import csv\n",
    "\n",
    "words = []\n",
    "i = 0\n",
    "start_line = 49\n",
    "\n",
    "with open ('db.csv', mode ='r', encoding='utf-8') as file:\n",
    "\n",
    "    # skip start_line number of lines\n",
    "    for _ in range(start_line - 1):\n",
    "        next(file)\n",
    "\n",
    "    reader = csv.reader(file)\n",
    "\n",
    "    for line in reader:\n",
    "        if line:  # Ensure the row isn't empty\n",
    "\n",
    "            first_line_char = line[0][0]\n",
    "\n",
    "            if first_line_char == '#':\n",
    "                continue\n",
    "            if first_line_char == '\\n':\n",
    "                continue\n",
    "\n",
    "            # (content), string, vzor, typ, special, specialarray\n",
    "            # print(line[0])\n",
    "            # print(line[1])\n",
    "            # print(line[2])\n",
    "\n",
    "            obj = PridavneMeno(content=line[0], vzor=line[1])\n",
    "\n",
    "            words.append(obj)\n",
    "\n",
    "            if i == 10:\n",
    "                break\n",
    "            i+=1\n",
    "\n"
   ]
  },
  {
   "cell_type": "code",
   "execution_count": 3,
   "metadata": {},
   "outputs": [
    {
     "name": "stdout",
     "output_type": "stream",
     "text": [
      "liberalny\n",
      "pekny\n",
      "liberalna\n",
      "liberalne\n",
      "liberaln\n",
      "liberalne\n",
      "liberalne\n",
      "dalsi\n",
      "cudzi\n",
      "dalsia\n",
      "dalsie\n",
      "dalsii\n",
      "dalsie\n",
      "dalsie\n"
     ]
    }
   ],
   "source": [
    "from PridavneMeno import PridavneMeno\n",
    "\n",
    "slovo = words[0]\n",
    "\n",
    "print(slovo.getContent())\n",
    "print(slovo.getVzor())\n",
    "print(slovo.transform('z', 'sg'))\n",
    "print(slovo.transform('s', 'sg'))\n",
    "print(slovo.transform('m', 'pl'))\n",
    "print(slovo.transform('z', 'pl'))\n",
    "print(slovo.transform('s', 'pl'))\n",
    "\n",
    "slovo = words[4]\n",
    "print(slovo.getContent())\n",
    "print(slovo.getVzor())\n",
    "print(slovo.transform('z', 'sg'))\n",
    "print(slovo.transform('s', 'sg'))\n",
    "print(slovo.transform('m', 'pl'))\n",
    "print(slovo.transform('z', 'pl'))\n",
    "print(slovo.transform('s', 'pl'))\n",
    "\n",
    "\n",
    "# print(words[0].getRod())"
   ]
  },
  {
   "cell_type": "code",
   "execution_count": 6,
   "metadata": {},
   "outputs": [
    {
     "name": "stdout",
     "output_type": "stream",
     "text": [
      "{'Bob': 1, 'Alice': 2, 'Charlie': 3}\n",
      "[1, 2, 3]\n"
     ]
    }
   ],
   "source": [
    "\n",
    "names = {\"Alice\", \"Bob\", \"Charlie\"}\n",
    "name_to_int = {name: idx + 1 for idx, name in enumerate(names)}\n",
    "print(name_to_int)  # Output: {'Charlie': 1, 'Alice': 2, 'Bob': 3}\n",
    "\n",
    "mapped_values = [name_to_int[name] for name in names]\n",
    "print(mapped_values)  # Output: [2, 3, 2, 1]"
   ]
  },
  {
   "cell_type": "code",
   "execution_count": 14,
   "metadata": {},
   "outputs": [
    {
     "name": "stdout",
     "output_type": "stream",
     "text": [
      "{'N': 0, 'G': 1, 'D': 2, 'A': 3, 'L': 4, 'I': 5}\n"
     ]
    }
   ],
   "source": [
    "pady = ['N','G','D','A','L','I']\n",
    "pady_values = {pad: idx for idx, pad in enumerate(pady)}\n",
    "\n",
    "print(pady_values)  # Output: {'Charlie': 1, 'Alice': 2, 'Bob': 3}"
   ]
  },
  {
   "cell_type": "code",
   "execution_count": 1,
   "metadata": {},
   "outputs": [
    {
     "name": "stdout",
     "output_type": "stream",
     "text": [
      "hyien\n",
      "zien\n",
      "miest\n",
      "srdc\n"
     ]
    }
   ],
   "source": [
    "from PodstatneMeno import PodstatneMeno\n",
    "\n",
    "meno = PodstatneMeno('hyena','z','zena')\n",
    "\n",
    "result = meno.transform('pl','G')\n",
    "print(result)\n",
    "\n",
    "meno = PodstatneMeno('zena','z','zena')\n",
    "result = meno.transform('pl','G')\n",
    "print(result)\n",
    "\n",
    "meno = PodstatneMeno('mesto','s','mesto')\n",
    "result = meno.transform('pl','G')\n",
    "print(result)\n",
    "\n",
    "meno = PodstatneMeno('srdce','s','srdce')\n",
    "result = meno.transform('pl','G')\n",
    "print(result)\n",
    "\n",
    "# result = meno._pad_to_int.get('A')\n",
    "# print(result)\n"
   ]
  },
  {
   "cell_type": "code",
   "execution_count": 9,
   "metadata": {},
   "outputs": [
    {
     "name": "stdout",
     "output_type": "stream",
     "text": [
      "['c', 'e', 'r', 'n', 'y']\n",
      "['c', 'e', 'r', 'n']\n"
     ]
    }
   ],
   "source": [
    "neger = ['c','e','r','n','y']\n",
    "print(neger)\n",
    "neger = neger[:-1]\n",
    "print(neger)"
   ]
  },
  {
   "cell_type": "code",
   "execution_count": null,
   "metadata": {},
   "outputs": [],
   "source": [
    "def __init__(self):\n",
    "    # Dictionary mapping command strings to methods\n",
    "    self.command_methods = {\n",
    "        'start': self.start,\n",
    "        'stop': self.stop,\n",
    "        'pause': self.pause\n",
    "    }\n",
    "\n",
    "\n",
    "def execute_command(self, command):\n",
    "    # Get the method from the dictionary and call it\n",
    "    method = self.command_methods.get(command)\n",
    "    if method:\n",
    "        method()\n",
    "    else:\n",
    "        print(\"Invalid command\")"
   ]
  }
 ],
 "metadata": {
  "kernelspec": {
   "display_name": "Python 3",
   "language": "python",
   "name": "python3"
  },
  "language_info": {
   "codemirror_mode": {
    "name": "ipython",
    "version": 3
   },
   "file_extension": ".py",
   "mimetype": "text/x-python",
   "name": "python",
   "nbconvert_exporter": "python",
   "pygments_lexer": "ipython3",
   "version": "3.8.0"
  }
 },
 "nbformat": 4,
 "nbformat_minor": 2
}

{
 "cells": [
  {
   "cell_type": "code",
   "execution_count": 2,
   "metadata": {},
   "outputs": [],
   "source": [
    "from PridavneMeno import PridavneMeno\n",
    "import csv\n",
    "\n",
    "words = []\n",
    "i = 0\n",
    "start_line = 49\n",
    "\n",
    "with open ('db.csv', mode ='r', encoding='utf-8') as file:\n",
    "\n",
    "    # skip start_line number of lines\n",
    "    for _ in range(start_line - 1):\n",
    "        next(file)\n",
    "\n",
    "    reader = csv.reader(file)\n",
    "\n",
    "    for line in reader:\n",
    "        if line:  # Ensure the row isn't empty\n",
    "\n",
    "            first_line_char = line[0][0]\n",
    "\n",
    "            if first_line_char == '#':\n",
    "                continue\n",
    "            if first_line_char == '\\n':\n",
    "                continue\n",
    "\n",
    "            # (content), string, vzor, typ, special, specialarray\n",
    "            # print(line[0])\n",
    "            # print(line[1])\n",
    "            # print(line[2])\n",
    "\n",
    "            obj = PridavneMeno(content=line[0], vzor=line[1])\n",
    "\n",
    "            words.append(obj)\n",
    "\n",
    "            if i == 10:\n",
    "                break\n",
    "            i+=1\n",
    "\n"
   ]
  },
  {
   "cell_type": "code",
   "execution_count": 5,
   "metadata": {},
   "outputs": [
    {
     "name": "stdout",
     "output_type": "stream",
     "text": [
      "liberalny\n",
      "pekny\n",
      "liberalna\n",
      "liberalne\n",
      "liberalni\n",
      "liberalne\n",
      "liberalne\n",
      "dalsi\n",
      "cudzi\n"
     ]
    },
    {
     "ename": "TypeError",
     "evalue": "cudzi() takes 2 positional arguments but 3 were given",
     "output_type": "error",
     "traceback": [
      "\u001b[1;31m---------------------------------------------------------------------------\u001b[0m",
      "\u001b[1;31mTypeError\u001b[0m                                 Traceback (most recent call last)",
      "Cell \u001b[1;32mIn[5], line 16\u001b[0m\n\u001b[0;32m     14\u001b[0m \u001b[38;5;28mprint\u001b[39m(slovo\u001b[38;5;241m.\u001b[39mgetContent())\n\u001b[0;32m     15\u001b[0m \u001b[38;5;28mprint\u001b[39m(slovo\u001b[38;5;241m.\u001b[39mgetVzor())\n\u001b[1;32m---> 16\u001b[0m \u001b[38;5;28mprint\u001b[39m(\u001b[43mslovo\u001b[49m\u001b[38;5;241;43m.\u001b[39;49m\u001b[43mtransform\u001b[49m\u001b[43m(\u001b[49m\u001b[38;5;124;43m'\u001b[39;49m\u001b[38;5;124;43mz\u001b[39;49m\u001b[38;5;124;43m'\u001b[39;49m\u001b[43m,\u001b[49m\u001b[43m \u001b[49m\u001b[38;5;124;43m'\u001b[39;49m\u001b[38;5;124;43msg\u001b[39;49m\u001b[38;5;124;43m'\u001b[39;49m\u001b[43m)\u001b[49m)\n\u001b[0;32m     17\u001b[0m \u001b[38;5;28mprint\u001b[39m(slovo\u001b[38;5;241m.\u001b[39mtransform(\u001b[38;5;124m'\u001b[39m\u001b[38;5;124ms\u001b[39m\u001b[38;5;124m'\u001b[39m, \u001b[38;5;124m'\u001b[39m\u001b[38;5;124msg\u001b[39m\u001b[38;5;124m'\u001b[39m))\n\u001b[0;32m     18\u001b[0m \u001b[38;5;28mprint\u001b[39m(slovo\u001b[38;5;241m.\u001b[39mtransform(\u001b[38;5;124m'\u001b[39m\u001b[38;5;124mm\u001b[39m\u001b[38;5;124m'\u001b[39m, \u001b[38;5;124m'\u001b[39m\u001b[38;5;124mpl\u001b[39m\u001b[38;5;124m'\u001b[39m))\n",
      "File \u001b[1;32mc:\\Users\\Admin\\Desktop\\IT\\prog\\progresivny generator slov\\PridavneMeno.py:24\u001b[0m, in \u001b[0;36mPridavneMeno.transform\u001b[1;34m(self, rod, cislo)\u001b[0m\n\u001b[0;32m     22\u001b[0m     \u001b[38;5;28;01mreturn\u001b[39;00m \u001b[38;5;28mself\u001b[39m\u001b[38;5;241m.\u001b[39mpekny(rod, cislo)\n\u001b[0;32m     23\u001b[0m \u001b[38;5;28;01melif\u001b[39;00m vzor \u001b[38;5;241m==\u001b[39m \u001b[38;5;124m'\u001b[39m\u001b[38;5;124mcudzi\u001b[39m\u001b[38;5;124m'\u001b[39m:\n\u001b[1;32m---> 24\u001b[0m     \u001b[38;5;28;01mreturn\u001b[39;00m \u001b[38;5;28;43mself\u001b[39;49m\u001b[38;5;241;43m.\u001b[39;49m\u001b[43mcudzi\u001b[49m\u001b[43m(\u001b[49m\u001b[43mrod\u001b[49m\u001b[43m,\u001b[49m\u001b[43m \u001b[49m\u001b[43mcislo\u001b[49m\u001b[43m)\u001b[49m\n\u001b[0;32m     25\u001b[0m \u001b[38;5;28;01melse\u001b[39;00m:\n\u001b[0;32m     26\u001b[0m     \u001b[38;5;28;01mreturn\u001b[39;00m \u001b[38;5;241m0\u001b[39m\n",
      "\u001b[1;31mTypeError\u001b[0m: cudzi() takes 2 positional arguments but 3 were given"
     ]
    }
   ],
   "source": [
    "from PridavneMeno import PridavneMeno\n",
    "\n",
    "slovo = words[0]\n",
    "\n",
    "print(slovo.getContent())\n",
    "print(slovo.getVzor())\n",
    "print(slovo.transform('z', 'sg'))\n",
    "print(slovo.transform('s', 'sg'))\n",
    "print(slovo.transform('m', 'pl'))\n",
    "print(slovo.transform('z', 'pl'))\n",
    "print(slovo.transform('s', 'pl'))\n",
    "\n",
    "slovo = words[4]\n",
    "print(slovo.getContent())\n",
    "print(slovo.getVzor())\n",
    "print(slovo.transform('z', 'sg'))\n",
    "print(slovo.transform('s', 'sg'))\n",
    "print(slovo.transform('m', 'pl'))\n",
    "print(slovo.transform('z', 'pl'))\n",
    "print(slovo.transform('s', 'pl'))\n",
    "\n",
    "\n",
    "# print(words[0].getRod())"
   ]
  }
 ],
 "metadata": {
  "kernelspec": {
   "display_name": "Python 3",
   "language": "python",
   "name": "python3"
  },
  "language_info": {
   "codemirror_mode": {
    "name": "ipython",
    "version": 3
   },
   "file_extension": ".py",
   "mimetype": "text/x-python",
   "name": "python",
   "nbconvert_exporter": "python",
   "pygments_lexer": "ipython3",
   "version": "3.8.0"
  }
 },
 "nbformat": 4,
 "nbformat_minor": 2
}

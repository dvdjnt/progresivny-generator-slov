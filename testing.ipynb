{
 "cells": [
  {
   "cell_type": "code",
   "execution_count": 3,
   "metadata": {},
   "outputs": [],
   "source": []
  },
  {
   "cell_type": "code",
   "execution_count": 2,
   "metadata": {},
   "outputs": [],
   "source": [
    "from PridavneMeno import PridavneMeno\n",
    "import csv\n",
    "\n",
    "words = []\n",
    "i = 0\n",
    "start_line = 49\n",
    "\n",
    "with open ('db.csv', mode ='r', encoding='utf-8') as file:\n",
    "\n",
    "    # skip start_line number of lines\n",
    "    for _ in range(start_line - 1):\n",
    "        next(file)\n",
    "\n",
    "    reader = csv.reader(file)\n",
    "\n",
    "    for line in reader:\n",
    "        if line:  # Ensure the row isn't empty\n",
    "\n",
    "            first_line_char = line[0][0]\n",
    "\n",
    "            if first_line_char == '#':\n",
    "                continue\n",
    "            if first_line_char == '\\n':\n",
    "                continue\n",
    "\n",
    "            # (content), string, vzor, typ, special, specialarray\n",
    "            # print(line[0])\n",
    "            # print(line[1])\n",
    "            # print(line[2])\n",
    "\n",
    "            obj = PridavneMeno(content=line[0], vzor=line[1])\n",
    "\n",
    "            words.append(obj)\n",
    "\n",
    "            if i == 10:\n",
    "                break\n",
    "            i+=1\n",
    "\n"
   ]
  },
  {
   "cell_type": "code",
   "execution_count": 12,
   "metadata": {},
   "outputs": [
    {
     "name": "stdout",
     "output_type": "stream",
     "text": [
      "[5, 8, 7]\n"
     ]
    }
   ],
   "source": [
    "import random\n",
    "\n",
    "cernosi = [1,2,3]\n",
    "belosi = [5, 8, 7]\n",
    "\n",
    "print(random.choice([cernosi, belosi]))"
   ]
  },
  {
   "cell_type": "code",
   "execution_count": 14,
   "metadata": {},
   "outputs": [
    {
     "name": "stdout",
     "output_type": "stream",
     "text": [
      "liberalizm\n"
     ]
    }
   ],
   "source": [
    "word = 'liberalizmus'\n",
    "print(word[:-2])"
   ]
  },
  {
   "cell_type": "code",
   "execution_count": 1,
   "metadata": {},
   "outputs": [
    {
     "ename": "ModuleNotFoundError",
     "evalue": "No module named 'll'",
     "output_type": "error",
     "traceback": [
      "\u001b[1;31m---------------------------------------------------------------------------\u001b[0m",
      "\u001b[1;31mModuleNotFoundError\u001b[0m                       Traceback (most recent call last)",
      "Cell \u001b[1;32mIn[1], line 1\u001b[0m\n\u001b[1;32m----> 1\u001b[0m \u001b[38;5;28;01mimport\u001b[39;00m \u001b[38;5;21;01mlinked_list\u001b[39;00m \u001b[38;5;28;01mas\u001b[39;00m \u001b[38;5;21;01mll\u001b[39;00m\n\u001b[0;32m      2\u001b[0m \u001b[38;5;28mlist\u001b[39m \u001b[38;5;241m=\u001b[39m ll\u001b[38;5;241m.\u001b[39mDLL(\u001b[38;5;241m5\u001b[39m)\n",
      "File \u001b[1;32mc:\\Users\\Admin\\AppData\\Local\\Programs\\Python\\Python38\\lib\\site-packages\\linked_list\\__init__.py:1\u001b[0m\n\u001b[1;32m----> 1\u001b[0m \u001b[38;5;28;01mfrom\u001b[39;00m \u001b[38;5;21;01mll\u001b[39;00m \u001b[38;5;28;01mimport\u001b[39;00m LL\n\u001b[0;32m      2\u001b[0m \u001b[38;5;28;01mfrom\u001b[39;00m \u001b[38;5;21;01mdll\u001b[39;00m \u001b[38;5;28;01mimport\u001b[39;00m DLL\n\u001b[0;32m      3\u001b[0m \u001b[38;5;28;01mfrom\u001b[39;00m \u001b[38;5;21;01mtools\u001b[39;00m \u001b[38;5;28;01mimport\u001b[39;00m (\n\u001b[0;32m      4\u001b[0m     pushback, pushfront, popback, popfront, delete)\n",
      "\u001b[1;31mModuleNotFoundError\u001b[0m: No module named 'll'"
     ]
    }
   ],
   "source": [
    "import linked_list as ll\n",
    "list = ll.DLL(5)"
   ]
  },
  {
   "cell_type": "code",
   "execution_count": 1,
   "metadata": {},
   "outputs": [
    {
     "name": "stdout",
     "output_type": "stream",
     "text": [
      "30\n",
      "0\n",
      "0\n"
     ]
    }
   ],
   "source": [
    "%reload_ext autoreload\n",
    "from GeneratorViet import GeneratorViet\n",
    "\n",
    "gen = GeneratorViet()\n",
    "gen.loadDB()"
   ]
  },
  {
   "cell_type": "code",
   "execution_count": 3,
   "metadata": {},
   "outputs": [
    {
     "name": "stdout",
     "output_type": "stream",
     "text": [
      "liberalny\n",
      "pekny\n",
      "liberalna\n",
      "liberalne\n",
      "liberaln\n",
      "liberalne\n",
      "liberalne\n",
      "dalsi\n",
      "cudzi\n",
      "dalsia\n",
      "dalsie\n",
      "dalsii\n",
      "dalsie\n",
      "dalsie\n"
     ]
    }
   ],
   "source": [
    "from PridavneMeno import PridavneMeno\n",
    "\n",
    "slovo = words[0]\n",
    "\n",
    "print(slovo.getContent())\n",
    "print(slovo.getVzor())\n",
    "print(slovo.transform('z', 'sg'))\n",
    "print(slovo.transform('s', 'sg'))\n",
    "print(slovo.transform('m', 'pl'))\n",
    "print(slovo.transform('z', 'pl'))\n",
    "print(slovo.transform('s', 'pl'))\n",
    "\n",
    "slovo = words[4]\n",
    "print(slovo.getContent())\n",
    "print(slovo.getVzor())\n",
    "print(slovo.transform('z', 'sg'))\n",
    "print(slovo.transform('s', 'sg'))\n",
    "print(slovo.transform('m', 'pl'))\n",
    "print(slovo.transform('z', 'pl'))\n",
    "print(slovo.transform('s', 'pl'))\n",
    "\n",
    "\n",
    "# print(words[0].getRod())"
   ]
  },
  {
   "cell_type": "code",
   "execution_count": 1,
   "metadata": {},
   "outputs": [
    {
     "name": "stdout",
     "output_type": "stream",
     "text": [
      "hyien\n",
      "zien\n",
      "miest\n",
      "srdc\n"
     ]
    }
   ],
   "source": [
    "from gramatika.PodstatneMeno import PodstatneMeno\n",
    "\n",
    "meno = PodstatneMeno('hyena','z','zena')\n",
    "\n",
    "result = meno.transform('pl','G')\n",
    "print(result)\n",
    "\n",
    "meno = PodstatneMeno('zena','z','zena')\n",
    "result = meno.transform('pl','G')\n",
    "print(result)\n",
    "\n",
    "meno = PodstatneMeno('mesto','s','mesto')\n",
    "result = meno.transform('pl','G')\n",
    "print(result)\n",
    "\n",
    "meno = PodstatneMeno('srdce','s','srdce')\n",
    "result = meno.transform('pl','G')\n",
    "print(result)\n",
    "\n",
    "# result = meno._pad_to_int.get('A')\n",
    "# print(result)\n"
   ]
  }
 ],
 "metadata": {
  "kernelspec": {
   "display_name": "Python 3",
   "language": "python",
   "name": "python3"
  },
  "language_info": {
   "codemirror_mode": {
    "name": "ipython",
    "version": 3
   },
   "file_extension": ".py",
   "mimetype": "text/x-python",
   "name": "python",
   "nbconvert_exporter": "python",
   "pygments_lexer": "ipython3",
   "version": "3.8.0"
  }
 },
 "nbformat": 4,
 "nbformat_minor": 2
}
